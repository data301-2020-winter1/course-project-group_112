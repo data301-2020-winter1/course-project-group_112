{
 "cells": [
  {
   "cell_type": "code",
   "execution_count": 14,
   "metadata": {},
   "outputs": [],
   "source": [
    "import pandas as pd\n",
    "import numpy as np\n",
    "import seaborn as sns"
   ]
  },
  {
   "cell_type": "code",
   "execution_count": 13,
   "metadata": {},
   "outputs": [],
   "source": [
    "def year():\n",
    "    df=(\n",
    "        pd.read_csv('../raw/Spotify-2000.csv')\n",
    "        .sort_values(['Year','Popularity'],ascending=False)\n",
    "        \n",
    "        .drop(columns=['Index'])\n",
    "    )\n",
    "    return df"
   ]
  },
  {
   "cell_type": "code",
   "execution_count": 12,
   "metadata": {},
   "outputs": [],
   "source": [
    "def genre():\n",
    "    df=(\n",
    "        pd.read_csv('../raw/Spotify-2000.csv')\n",
    "        .sort_values(['Artist','Top Genre','Year'],ascending=True)\n",
    "        .drop(columns=['Index'])\n",
    "    )\n",
    "    return df"
   ]
  },
  {
   "cell_type": "code",
   "execution_count": 11,
   "metadata": {},
   "outputs": [],
   "source": [
    "def popular():\n",
    "    df = (\n",
    "        pd.read_csv('../raw/Spotify-2000.csv')\n",
    "        .sort_values('Popularity',ascending=False)\n",
    "    )\n",
    "    df2 = (\n",
    "        df\n",
    "        .drop(columns=['Index','Energy','Valence','Acousticness','Speechiness','Beats Per Minute (BPM)','Loudness (dB)','Length (Duration)'])\n",
    "    )\n",
    "    return df2"
   ]
  }
 ],
 "metadata": {
  "kernelspec": {
   "display_name": "Python 3",
   "language": "python",
   "name": "python3"
  },
  "language_info": {
   "codemirror_mode": {
    "name": "ipython",
    "version": 3
   },
   "file_extension": ".py",
   "mimetype": "text/x-python",
   "name": "python",
   "nbconvert_exporter": "python",
   "pygments_lexer": "ipython3",
   "version": "3.8.3"
  }
 },
 "nbformat": 4,
 "nbformat_minor": 4
}
